{
 "cells": [
  {
   "cell_type": "code",
   "execution_count": 1,
   "metadata": {},
   "outputs": [
    {
     "name": "stdout",
     "output_type": "stream",
     "text": [
      "Beginning download...\n",
      "Starting pariza/bbc-news-summary Download\n",
      "Completed pariza/bbc-news-summary Download\n",
      "Starting rmisra/news-category-dataset Download\n",
      "Completed rmisra/news-category-dataset Download\n",
      "Download completed!\n",
      "json converted to DataFrame!\n",
      "Downloading articles...\n",
      "Articles downloaded!\n",
      "Moving and renaming files...\n",
      "Shutil task completed!\n"
     ]
    }
   ],
   "source": [
    "%run scripts/setup.py"
   ]
  },
  {
   "cell_type": "code",
   "execution_count": null,
   "metadata": {},
   "outputs": [],
   "source": []
  }
 ],
 "metadata": {
  "kernelspec": {
   "display_name": "base",
   "language": "python",
   "name": "python3"
  },
  "language_info": {
   "codemirror_mode": {
    "name": "ipython",
    "version": 3
   },
   "file_extension": ".py",
   "mimetype": "text/x-python",
   "name": "python",
   "nbconvert_exporter": "python",
   "pygments_lexer": "ipython3",
   "version": "3.9.12"
  },
  "orig_nbformat": 4
 },
 "nbformat": 4,
 "nbformat_minor": 2
}
