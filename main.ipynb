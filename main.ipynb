{
 "cells": [
  {
   "cell_type": "code",
   "execution_count": null,
   "metadata": {},
   "outputs": [],
   "source": [
    "from google.colab import drive\n",
    "\n",
    "drive.mount('/content/gdrive')"
   ]
  },
  {
   "cell_type": "code",
   "execution_count": null,
   "metadata": {},
   "outputs": [],
   "source": [
    "import os\n",
    "\n",
    "%cd /content/gdrive/MyDrive\n",
    "\n",
    "if os.getcwd() == '/content/gdrive/MyDrive/NLP-Business-News-Summarization':\n",
    "  %cd ..\n",
    "  !rm -r ./NLP-Business-News-Summarization/\n",
    "\n",
    "# Remove Colab default sample_data\n",
    "if os.path.exists('/content/sample_data'):\n",
    "  !rm -r /content/sample_data\n",
    "\n",
    "repo_name = \"NLP-Business-News-Summarization\" # Repository Name\n",
    "\n",
    "if not os.path.isdir('./' + repo_name):\n",
    "  # Clone GitHub Files\n",
    "  git_path = 'https://github.com/christianwhollar/NLP-Business-News-Summarization.git'\n",
    "  !git clone \"{git_path}\"\n",
    "\n",
    "# Change to new directory\n",
    "if not os.path.basename(os.getcwd()) == repo_name:\n",
    "  %cd \"{repo_name}\"\n",
    "\n",
    "  # Install dependencies from requirements.txt file\n",
    "  !pip install -r requirements.txt\n",
    "  !pip install transformers[torch]\n",
    "  !python -c \"from accelerate.utils import write_basic_config; write_basic_config(mixed_precision='fp16')\""
   ]
  },
  {
   "cell_type": "code",
   "execution_count": null,
   "metadata": {},
   "outputs": [],
   "source": [
    "from google.colab import files\n",
    "\n",
    "if 'kaggle.json' not in os.listdir():\n",
    "  files.upload()\n",
    "  ! mkdir ~/.kaggle\n",
    "  ! cp kaggle.json /content/gdrive/MyDrive/NLP-Business-News-Summarization/data/\n",
    "  ! chmod 600 /content/gdrive/MyDrive/NLP-Business-News-Summarization/data/kaggle.json\n",
    "  ! cp kaggle.json ~/.kaggle/\n",
    "  ! chmod 600 ~/.kaggle/kaggle.json"
   ]
  },
  {
   "cell_type": "code",
   "execution_count": null,
   "metadata": {},
   "outputs": [],
   "source": [
    "%run scripts/setup.py"
   ]
  },
  {
   "cell_type": "code",
   "execution_count": 2,
   "metadata": {},
   "outputs": [
    {
     "name": "stdout",
     "output_type": "stream",
     "text": [
      "^C\n"
     ]
    }
   ],
   "source": [
    "!streamlit run app/SummarizeBusinessArticle.py"
   ]
  },
  {
   "cell_type": "code",
   "execution_count": null,
   "metadata": {},
   "outputs": [],
   "source": []
  }
 ],
 "metadata": {
  "kernelspec": {
   "display_name": "base",
   "language": "python",
   "name": "python3"
  },
  "language_info": {
   "codemirror_mode": {
    "name": "ipython",
    "version": 3
   },
   "file_extension": ".py",
   "mimetype": "text/x-python",
   "name": "python",
   "nbconvert_exporter": "python",
   "pygments_lexer": "ipython3",
   "version": "3.9.12"
  },
  "orig_nbformat": 4
 },
 "nbformat": 4,
 "nbformat_minor": 2
}
