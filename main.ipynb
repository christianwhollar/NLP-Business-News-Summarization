{
 "cells": [
  {
   "cell_type": "code",
   "execution_count": null,
   "metadata": {},
   "outputs": [],
   "source": [
    "!pip install accelerate\n",
    "!pip install rouge_score\n",
    "import nltk\n",
    "nltk.download('popular')"
   ]
  },
  {
   "cell_type": "code",
   "execution_count": null,
   "metadata": {},
   "outputs": [],
   "source": [
    "import os\n",
    "\n",
    "if os.getcwd() == '/content/NLP-Business-News-Summarization':\n",
    "  %cd ..\n",
    "  !rm -r ./NLP-Business-News-Summarization/\n",
    "\n",
    "# Remove Colab default sample_data\n",
    "if os.path.exists('./sample_data'):\n",
    "  !rm -r ./sample_data\n",
    "\n",
    "repo_name = \"NLP-Business-News-Summarization\" # Repository Name\n",
    "\n",
    "if not os.path.isdir('./' + repo_name):\n",
    "  # Clone GitHub Files\n",
    "  git_path = 'https://github.com/christianwhollar/NLP-Business-News-Summarization.git'\n",
    "  !git clone \"{git_path}\"\n",
    "\n",
    "# Change to new directory\n",
    "if not os.path.basename(os.getcwd()) == repo_name:\n",
    "  %cd \"{repo_name}\"\n",
    "  \n",
    "  # Install dependencies from requirements.txt file\n",
    "  !pip install -r requirements.txt\n",
    "  !pip install transformers[torch]\n",
    "  !python -c \"from accelerate.utils import write_basic_config; write_basic_config(mixed_precision='fp16')\""
   ]
  },
  {
   "cell_type": "code",
   "execution_count": null,
   "metadata": {},
   "outputs": [],
   "source": [
    "from google.colab import files\n",
    "\n",
    "if 'kaggle.json' not in os.listdir():\n",
    "  files.upload()\n",
    "  ! mkdir ~/.kaggle\n",
    "  ! cp kaggle.json /content/NLP-Business-News-Summarization/data/\n",
    "  ! chmod 600 /content/NLP-Business-News-Summarization/data/kaggle.json\n",
    "  ! cp kaggle.json ~/.kaggle/\n",
    "  ! chmod 600 ~/.kaggle/kaggle.json"
   ]
  },
  {
   "cell_type": "code",
   "execution_count": 1,
   "metadata": {},
   "outputs": [
    {
     "name": "stdout",
     "output_type": "stream",
     "text": [
      "Deleted directory: data/processed/test\n",
      "Deleted directory: data/processed/train\n",
      "Deleted directory: data/processed/val\n",
      "Beginning download...\n",
      "Starting pariza/bbc-news-summary Download\n",
      "Completed pariza/bbc-news-summary Download\n",
      "Starting rmisra/news-category-dataset Download\n",
      "Completed rmisra/news-category-dataset Download\n",
      "Download completed!\n",
      "json converted to DataFrame!\n",
      "Downloading articles...\n",
      "Articles downloaded!\n",
      "Moving and renaming files...\n",
      "Shutil task completed!\n"
     ]
    },
    {
     "data": {
      "application/vnd.jupyter.widget-view+json": {
       "model_id": "f1d0ac4035754cb195f6ff716e1722e4",
       "version_major": 2,
       "version_minor": 0
      },
      "text/plain": [
       "Map:   0%|          | 0/12 [00:00<?, ? examples/s]"
      ]
     },
     "metadata": {},
     "output_type": "display_data"
    },
    {
     "data": {
      "application/vnd.jupyter.widget-view+json": {
       "model_id": "c9b529d8f16948d195ee0f67f7dc9f0f",
       "version_major": 2,
       "version_minor": 0
      },
      "text/plain": [
       "Map:   0%|          | 0/3 [00:00<?, ? examples/s]"
      ]
     },
     "metadata": {},
     "output_type": "display_data"
    },
    {
     "name": "stderr",
     "output_type": "stream",
     "text": [
      "c:\\Users\\19105\\anaconda3\\lib\\site-packages\\transformers\\optimization.py:411: FutureWarning: This implementation of AdamW is deprecated and will be removed in a future version. Use the PyTorch implementation torch.optim.AdamW instead, or set `no_deprecation_warning=True` to disable this warning\n",
      "  warnings.warn(\n"
     ]
    },
    {
     "data": {
      "application/vnd.jupyter.widget-view+json": {
       "model_id": "1df2f74bbb0f464b9e2a8deacabe9ab3",
       "version_major": 2,
       "version_minor": 0
      },
      "text/plain": [
       "  0%|          | 0/12 [00:00<?, ?it/s]"
      ]
     },
     "metadata": {},
     "output_type": "display_data"
    },
    {
     "name": "stderr",
     "output_type": "stream",
     "text": [
      "You're using a T5TokenizerFast tokenizer. Please note that with a fast tokenizer, using the `__call__` method is faster than using a method to encode the text followed by a call to the `pad` method to get a padded encoding.\n"
     ]
    },
    {
     "data": {
      "application/vnd.jupyter.widget-view+json": {
       "model_id": "e320b77c13624684adcab7449f942ce1",
       "version_major": 2,
       "version_minor": 0
      },
      "text/plain": [
       "  0%|          | 0/1 [00:00<?, ?it/s]"
      ]
     },
     "metadata": {},
     "output_type": "display_data"
    },
    {
     "name": "stdout",
     "output_type": "stream",
     "text": [
      "{'eval_loss': 2.9730703830718994, 'eval_rouge1': 0.1772, 'eval_rouge2': 0.0119, 'eval_rougeL': 0.1282, 'eval_rougeLsum': 0.1282, 'eval_gen_len': 19.0, 'eval_runtime': 4.1293, 'eval_samples_per_second': 0.727, 'eval_steps_per_second': 0.242, 'epoch': 1.0}\n"
     ]
    },
    {
     "data": {
      "application/vnd.jupyter.widget-view+json": {
       "model_id": "7da4fbc75ea54ae3806d552663a84a32",
       "version_major": 2,
       "version_minor": 0
      },
      "text/plain": [
       "  0%|          | 0/1 [00:00<?, ?it/s]"
      ]
     },
     "metadata": {},
     "output_type": "display_data"
    },
    {
     "name": "stdout",
     "output_type": "stream",
     "text": [
      "{'eval_loss': 2.885005235671997, 'eval_rouge1': 0.1772, 'eval_rouge2': 0.0119, 'eval_rougeL': 0.1282, 'eval_rougeLsum': 0.1282, 'eval_gen_len': 19.0, 'eval_runtime': 4.5194, 'eval_samples_per_second': 0.664, 'eval_steps_per_second': 0.221, 'epoch': 2.0}\n"
     ]
    },
    {
     "data": {
      "application/vnd.jupyter.widget-view+json": {
       "model_id": "41d36113d7a54a1c8a67e15994d9c9e0",
       "version_major": 2,
       "version_minor": 0
      },
      "text/plain": [
       "  0%|          | 0/1 [00:00<?, ?it/s]"
      ]
     },
     "metadata": {},
     "output_type": "display_data"
    },
    {
     "name": "stdout",
     "output_type": "stream",
     "text": [
      "{'eval_loss': 2.830634355545044, 'eval_rouge1': 0.2177, 'eval_rouge2': 0.0762, 'eval_rougeL': 0.1688, 'eval_rougeLsum': 0.1688, 'eval_gen_len': 19.0, 'eval_runtime': 4.2332, 'eval_samples_per_second': 0.709, 'eval_steps_per_second': 0.236, 'epoch': 3.0}\n"
     ]
    },
    {
     "data": {
      "application/vnd.jupyter.widget-view+json": {
       "model_id": "618a2186e6844d22b529cd73e6473d8c",
       "version_major": 2,
       "version_minor": 0
      },
      "text/plain": [
       "  0%|          | 0/1 [00:00<?, ?it/s]"
      ]
     },
     "metadata": {},
     "output_type": "display_data"
    },
    {
     "name": "stdout",
     "output_type": "stream",
     "text": [
      "{'eval_loss': 2.8091440200805664, 'eval_rouge1': 0.2177, 'eval_rouge2': 0.0762, 'eval_rougeL': 0.1688, 'eval_rougeLsum': 0.1688, 'eval_gen_len': 19.0, 'eval_runtime': 4.3682, 'eval_samples_per_second': 0.687, 'eval_steps_per_second': 0.229, 'epoch': 4.0}\n",
      "{'train_runtime': 92.8055, 'train_samples_per_second': 0.517, 'train_steps_per_second': 0.129, 'train_loss': 2.333381017049154, 'epoch': 4.0}\n"
     ]
    },
    {
     "data": {
      "application/vnd.jupyter.widget-view+json": {
       "model_id": "f9c91f76c97441b3abc2a5fd4d1d426f",
       "version_major": 2,
       "version_minor": 0
      },
      "text/plain": [
       "  0%|          | 0/1 [00:00<?, ?it/s]"
      ]
     },
     "metadata": {},
     "output_type": "display_data"
    },
    {
     "name": "stderr",
     "output_type": "stream",
     "text": [
      "Token indices sequence length is longer than the specified maximum sequence length for this model (599 > 512). Running this sequence through the model will result in indexing errors\n"
     ]
    }
   ],
   "source": [
    "%run scripts/setup.py"
   ]
  }
 ],
 "metadata": {
  "kernelspec": {
   "display_name": "base",
   "language": "python",
   "name": "python3"
  },
  "language_info": {
   "codemirror_mode": {
    "name": "ipython",
    "version": 3
   },
   "file_extension": ".py",
   "mimetype": "text/x-python",
   "name": "python",
   "nbconvert_exporter": "python",
   "pygments_lexer": "ipython3",
   "version": "3.9.12"
  },
  "orig_nbformat": 4
 },
 "nbformat": 4,
 "nbformat_minor": 2
}
